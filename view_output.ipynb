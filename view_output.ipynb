{
 "cells": [
  {
   "cell_type": "code",
   "execution_count": null,
   "id": "22b86360",
   "metadata": {},
   "outputs": [
    {
     "name": "stdout",
     "output_type": "stream",
     "text": [
      "+LI1|155190|7706|1|17.00|21168.23|0.04|0.02|N|O|1996-03-13|1996-02-12|1996-03-22|DELIVER IN PERSON|TRUCK|to beans x-ray carefull\n",
      "+CU1|Customer#000000001|j5JsirBM9PsCy0O1m|15|25-989-741-2988|711.56|BUILDING|y final requests wake slyly quickly special accounts. blithely\n",
      "+LI1|67310|7311|2|36.00|45983.16|0.09|0.06|N|O|1996-04-12|1996-02-28|1996-04-20|TAKE BACK RETURN|MAIL| according to the final foxes. qui\n",
      "+LI1|63700|3701|3|8.00|13309.60|0.10|0.02|N|O|1996-01-29|1996-03-05|1996-01-31|TAKE BACK RETURN|REG AIR|ourts cajole above the furiou\n",
      "+LI1|2132|4633|4|28.00|28955.64|0.09|0.06|N|O|1996-04-21|1996-03-30|1996-05-16|NONE|AIR|s cajole busily above t\n",
      "+LI1|24027|1534|5|24.00|22824.48|0.10|0.04|N|O|1996-03-30|1996-03-14|1996-04-01|NONE|FOB| the regular, regular pa\n",
      "+LI1|15635|638|6|32.00|49620.16|0.07|0.02|N|O|1996-01-30|1996-02-07|1996-02-03|DELIVER IN PERSON|MAIL|rouches. special\n",
      "+LI2|106170|1191|1|38.00|44694.46|0.00|0.05|N|O|1997-01-28|1997-01-14|1997-02-02|TAKE BACK RETURN|RAIL|re. enticingly regular instruct\n",
      "+LI3|4297|1798|1|45.00|54058.05|0.06|0.00|R|F|1994-02-02|1994-01-04|1994-02-23|NONE|AIR|s cajole above the pinto beans. iro\n",
      "+LI3|19036|6540|2|49.00|46796.47|0.10|0.00|R|F|1993-11-09|1993-12-20|1993-11-24|TAKE BACK RETURN|RAIL|ecial pinto beans. sly\n",
      "+LI3|128449|3474|3|27.00|39890.88|0.06|0.07|A|F|1994-01-16|1993-11-22|1994-01-23|DELIVER IN PERSON|SHIP|e carefully fina\n",
      "+LI3|29380|1883|4|2.00|2618.76|0.01|0.06|A|F|1993-12-04|1994-01-07|1994-01-01|NONE|TRUCK|ackages boost across\n",
      "+LI3|183095|650|5|28.00|32986.52|0.04|0.00|R|F|1993-12-14|1994-01-10|1994-01-01|TAKE BACK RETURN|FOB|heodolites haggle blit\n",
      "+LI3|62143|9662|6|26.00|28733.64|0.10|0.02|A|F|1993-10-29|1993-12-18|1993-11-04|TAKE BACK RETURN|RAIL|telets x-ray quickly mult\n",
      "+LI4|88035|5560|1|30.00|30690.90|0.03|0.08|N|O|1996-01-10|1995-12-14|1996-01-18|DELIVER IN PERSON|REG AIR|s. even ideas are above the accounts.\n",
      "+LI5|108570|8571|1|15.00|23678.55|0.02|0.04|R|F|1994-10-31|1994-08-31|1994-11-20|NONE|AIR|arefully regular t\n",
      "+LI5|123927|3928|2|26.00|50723.92|0.07|0.08|R|F|1994-10-16|1994-09-25|1994-10-19|NONE|FOB| theodolites. slyly pending dolphins\n",
      "+LI5|37531|35|3|50.00|73426.50|0.08|0.03|A|F|1994-08-08|1994-10-13|1994-08-26|DELIVER IN PERSON|AIR|odolites. bold accounts alo\n",
      "+LI6|139636|2150|1|37.00|61998.31|0.08|0.03|A|F|1992-04-27|1992-05-15|1992-05-02|TAKE BACK RETURN|TRUCK|ly silent ideas! carefull\n",
      "+LI7|182052|9607|1|12.00|13608.60|0.07|0.03|N|O|1996-05-07|1996-03-13|1996-06-03|TAKE BACK RETURN|FOB|bout the silent, ironic sentim\n",
      "+LI7|145243|7758|2|9.00|11594.16|0.08|0.08|N|O|1996-02-01|1996-03-02|1996-02-19|TAKE BACK RETURN|SHIP|ic packages slee\n",
      "+LI7|94780|9799|3|46.00|81639.88|0.10|0.07|N|O|1996-01-15|1996-03-27|1996-02-03|COLLECT COD|MAIL|accounts. reque\n",
      "+LI7|163073|3074|4|28.00|31809.96|0.03|0.04|N|O|1996-03-21|1996-04-08|1996-04-20|NONE|FOB|ng theodolites run furiously.\n",
      "+LI7|151894|9440|5|38.00|73943.82|0.08|0.01|N|O|1996-02-11|1996-02-24|1996-02-18|DELIVER IN PERSON|TRUCK|he final, daring excuses. furiously eve\n",
      "+LI7|79251|1759|6|35.00|43058.75|0.06|0.03|N|O|1996-01-16|1996-02-23|1996-01-22|TAKE BACK RETURN|FOB|ely pending deposits. quietly unusual requ\n",
      "+LI7|157238|2269|7|5.00|6476.15|0.04|0.02|N|O|1996-02-10|1996-03-26|1996-02-13|NONE|FOB|ithely about\n",
      "+LI32|82704|7721|1|28.00|47227.60|0.05|0.08|N|O|1995-10-23|1995-08-27|1995-10-26|TAKE BACK RETURN|TRUCK|y final gifts cajo\n",
      "+LI32|197921|441|2|32.00|64605.44|0.02|0.00|N|O|1995-08-14|1995-10-07|1995-08-27|COLLECT COD|AIR| accounts. deposits sleep ironicall\n",
      "+LI32|44161|6666|3|2.00|2210.32|0.09|0.02|N|O|1995-08-07|1995-10-07|1995-08-23|DELIVER IN PERSON|AIR|lets. furiously ironic platelets boost\n",
      "+LI32|2743|7744|4|4.00|6582.96|0.09|0.03|N|O|1995-08-04|1995-10-01|1995-09-03|NONE|REG AIR| platelets x-ray\n",
      "+LI32|85811|8320|5|44.00|79059.64|0.05|0.06|N|O|1995-08-28|1995-08-20|1995-09-14|DELIVER IN PERSON|AIR|as are bold requests. quickly regular brai\n",
      "+LI32|11615|4117|6|6.00|9159.66|0.04|0.03|N|O|1995-07-21|1995-09-23|1995-07-25|COLLECT COD|RAIL|ly final asymptotes. qui\n",
      "+LI33|61336|8855|1|31.00|40217.23|0.09|0.04|A|F|1993-10-29|1993-12-19|1993-11-08|COLLECT COD|TRUCK|uctions. slyly pending requests ca\n",
      "+LI33|60519|5532|2|32.00|47344.32|0.02|0.05|A|F|1993-12-09|1994-01-04|1993-12-28|COLLECT COD|MAIL|y ironic, regular\n",
      "+LI33|137469|9983|3|5.00|7532.30|0.05|0.03|A|F|1993-12-09|1993-12-25|1993-12-23|TAKE BACK RETURN|AIR| pending platelets ma\n",
      "+LI33|33918|3919|4|41.00|75928.31|0.09|0.00|R|F|1993-11-09|1994-01-24|1993-11-11|TAKE BACK RETURN|MAIL|as about the slyly regular d\n",
      "+LI34|88362|871|1|13.00|17554.68|0.00|0.07|N|O|1998-10-23|1998-09-14|1998-11-06|NONE|REG AIR|boost fluffily about the quickl\n",
      "+LI34|89414|1923|2|22.00|30875.02|0.08|0.06|N|O|1998-10-09|1998-10-16|1998-10-12|NONE|FOB|efully fluffi\n",
      "+LI34|169544|4577|3|6.00|9681.24|0.02|0.06|N|O|1998-10-30|1998-09-20|1998-11-05|NONE|FOB|ar pinto beans.\n",
      "+LI35|450|2951|1|24.00|32410.80|0.02|0.00|N|O|1996-02-21|1996-01-03|1996-03-18|TAKE BACK RETURN|FOB|r packages. eve\n"
     ]
    }
   ],
   "source": [
    "import pandas as pd\n",
    "from IPython.display import display\n",
    "        \n",
    "output_file_path = \"streamdata.csv\"  # merged\n",
    "\n",
    "with open(output_file_path, \"r\") as f:\n",
    "    for i in range(40):\n",
    "        line = f.readline()\n",
    "        if not line:\n",
    "            break\n",
    "        print(line.strip())"
   ]
  }
 ],
 "metadata": {
  "kernelspec": {
   "display_name": "base",
   "language": "python",
   "name": "python3"
  },
  "language_info": {
   "codemirror_mode": {
    "name": "ipython",
    "version": 3
   },
   "file_extension": ".py",
   "mimetype": "text/x-python",
   "name": "python",
   "nbconvert_exporter": "python",
   "pygments_lexer": "ipython3",
   "version": "3.10.11"
  }
 },
 "nbformat": 4,
 "nbformat_minor": 5
}
